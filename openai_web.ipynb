{
 "cells": [
  {
   "cell_type": "code",
   "execution_count": 2,
   "metadata": {},
   "outputs": [
    {
     "data": {
      "text/plain": [
       "True"
      ]
     },
     "execution_count": 2,
     "metadata": {},
     "output_type": "execute_result"
    }
   ],
   "source": [
    "import os\n",
    "import openai\n",
    "from dotenv import load_dotenv\n",
    "load_dotenv()"
   ]
  },
  {
   "cell_type": "code",
   "execution_count": 3,
   "metadata": {},
   "outputs": [],
   "source": [
    "openai.api_key = os.getenv('OPENAI_API_KEY')"
   ]
  },
  {
   "cell_type": "code",
   "execution_count": 25,
   "metadata": {},
   "outputs": [],
   "source": [
    "from git import Repo"
   ]
  },
  {
   "cell_type": "code",
   "execution_count": 5,
   "metadata": {},
   "outputs": [],
   "source": [
    "from pathlib import Path"
   ]
  },
  {
   "cell_type": "code",
   "execution_count": 6,
   "metadata": {},
   "outputs": [],
   "source": [
    "PATH_TO_BLOG_REPO = Path('/Users/peterhyland/Documents/GitHub/peter-hyland.github.io/.git')"
   ]
  },
  {
   "cell_type": "code",
   "execution_count": 7,
   "metadata": {},
   "outputs": [],
   "source": [
    "PATH_TO_BLOG = PATH_TO_BLOG_REPO.parent"
   ]
  },
  {
   "cell_type": "code",
   "execution_count": 8,
   "metadata": {},
   "outputs": [],
   "source": [
    "PATH_TO_CONTENT = PATH_TO_BLOG/\"content\""
   ]
  },
  {
   "cell_type": "code",
   "execution_count": 9,
   "metadata": {},
   "outputs": [],
   "source": [
    "PATH_TO_CONTENT.mkdir(exist_ok=True,parents=True)"
   ]
  },
  {
   "cell_type": "code",
   "execution_count": 10,
   "metadata": {},
   "outputs": [],
   "source": [
    "def update_blog(commit_message='Updates blog'):\n",
    "    repo = Repo(PATH_TO_BLOG_REPO)\n",
    "    repo.git.add(all=True)\n",
    "    repo.index.commit(commit_message)\n",
    "    origin = repo.remote(name='origin')\n",
    "    origin.push()"
   ]
  },
  {
   "cell_type": "code",
   "execution_count": 11,
   "metadata": {},
   "outputs": [],
   "source": [
    "update_blog()"
   ]
  },
  {
   "cell_type": "code",
   "execution_count": 12,
   "metadata": {},
   "outputs": [],
   "source": [
    "import shutil\n",
    "def create_new_blog(title,content,cover_image):\n",
    "    cover_image = Path(cover_image)\n",
    "\n",
    "    files = len(list(PATH_TO_CONTENT.glob(\"*.html\")))\n",
    "    new_title = f\"{files+1}.html\"\n",
    "    path_to_new_content = PATH_TO_CONTENT/new_title\n",
    "\n",
    "    shutil.copy(cover_image,PATH_TO_CONTENT)\n",
    "\n",
    "    if not os.path.exists(path_to_new_content): \n",
    "        with open(path_to_new_content,'w') as f:\n",
    "            f.write(\"<!DOCTYPE html>\\n\")\n",
    "            f.write(\"<html>\\n\")\n",
    "            f.write(\"<head>\\n\")\n",
    "            f.write(f\"<title> {title} </title>\\n\")\n",
    "            f.write(\"</head>\\n\")\n",
    "\n",
    "            f.write(\"<body>\\n\")\n",
    "            f.write(f\"<img src='{cover_image.name}' alt='Cover Image'> <br/>\\n\")\n",
    "            f.write(f\"<h1> {title} <h1>\")\n",
    "            f.write(content.replace(\"\\n\", \"<br/>\\n\"))\n",
    "            f.write(\"</body>\\n\")\n",
    "            f.write(\"</html>\\n\")\n",
    "            print(\"blog created\")\n",
    "            return path_to_new_content\n",
    "    else:\n",
    "        raise FileExistsError(\"file already exists\")"
   ]
  },
  {
   "cell_type": "code",
   "execution_count": 13,
   "metadata": {},
   "outputs": [
    {
     "name": "stdout",
     "output_type": "stream",
     "text": [
      "blog created\n"
     ]
    }
   ],
   "source": [
    "path_to_new_content = create_new_blog('Test_title', 'rbediewf','logo.png')"
   ]
  },
  {
   "cell_type": "code",
   "execution_count": 14,
   "metadata": {},
   "outputs": [],
   "source": [
    "from bs4 import BeautifulSoup as Soup\n",
    "with open(PATH_TO_BLOG/\"index.html\") as index:\n",
    "    soup = Soup(index.read())"
   ]
  },
  {
   "cell_type": "code",
   "execution_count": 15,
   "metadata": {},
   "outputs": [
    {
     "data": {
      "text/plain": [
       "'<html lang=\"en\">\\n<head>\\n<meta charset=\"utf-8\"/>\\n<meta content=\"width=device-width, initial-scale=1.0\" name=\"viewport\"/>\\n<title>\\n   Document\\n  </title>\\n</head>\\n<body>\\n<h1>\\n   my blog home\\n  </h1>\\n<a href=\"index.html\">\\n   home\\n  </a>\\n<a href=\"content/13.html\">\\n   13\\n  </a>\\n<a href=\"content/14.html\">\\n   14\\n  </a>\\n<a href=\"content/15.html\">\\n   15\\n  </a>\\n<a href=\"content/16.html\">\\n   16\\n  </a>\\n</body>\\n</html>\\n'"
      ]
     },
     "execution_count": 15,
     "metadata": {},
     "output_type": "execute_result"
    }
   ],
   "source": [
    "str(soup)"
   ]
  },
  {
   "cell_type": "code",
   "execution_count": 16,
   "metadata": {},
   "outputs": [],
   "source": [
    "def check_for_duplicate_links(path_to_new_content, links):\n",
    "    urls = [str(link.get(\"href\")) for link in links]\n",
    "    content_path = str(Path(*path_to_new_content.parts[-2:]))\n",
    "    return content_path in urls"
   ]
  },
  {
   "cell_type": "code",
   "execution_count": 17,
   "metadata": {},
   "outputs": [],
   "source": [
    "def write_to_index(path_to_new_content):\n",
    "    with open(PATH_TO_BLOG/\"index.html\") as index:\n",
    "        soup = Soup(index.read())\n",
    "\n",
    "    links = soup.find_all(\"a\")\n",
    "    print(links)\n",
    "    last_link = links[-1]\n",
    "    \n",
    "    if check_for_duplicate_links(path_to_new_content, links):\n",
    "        raise ValueError(\"Link does already exist!\")\n",
    "        \n",
    "    link_to_new_blog = soup.new_tag(\"a\", href=Path(*path_to_new_content.parts[-2:]))\n",
    "    link_to_new_blog.string = path_to_new_content.name.split(\".\")[0]\n",
    "    last_link.insert_after(link_to_new_blog)\n",
    "    \n",
    "    with open(PATH_TO_BLOG/\"index.html\", \"w\") as f:\n",
    "        f.write(str(soup.prettify(formatter='html')))"
   ]
  },
  {
   "cell_type": "code",
   "execution_count": 18,
   "metadata": {},
   "outputs": [
    {
     "name": "stdout",
     "output_type": "stream",
     "text": [
      "[<a href=\"index.html\">\n",
      "   home\n",
      "  </a>, <a href=\"content/13.html\">\n",
      "   13\n",
      "  </a>, <a href=\"content/14.html\">\n",
      "   14\n",
      "  </a>, <a href=\"content/15.html\">\n",
      "   15\n",
      "  </a>, <a href=\"content/16.html\">\n",
      "   16\n",
      "  </a>]\n"
     ]
    }
   ],
   "source": [
    "write_to_index(path_to_new_content)"
   ]
  },
  {
   "cell_type": "code",
   "execution_count": 19,
   "metadata": {},
   "outputs": [],
   "source": [
    "update_blog()"
   ]
  },
  {
   "cell_type": "code",
   "execution_count": 20,
   "metadata": {},
   "outputs": [],
   "source": [
    "def create_prompt(title):\n",
    "    prompt = \"\"\"\n",
    "    Biography:\n",
    "    My name is Jose and I am a python instructor doe coding.\n",
    "\n",
    "    Blog\n",
    "    Title: {}\n",
    "    tags: tech, python, coding, AI, nachine learning\n",
    "    Summary: I talk about what the future of AI could hold for Python\n",
    "    Full Text: \"\"\".format(title)\n",
    "    return prompt"
   ]
  },
  {
   "cell_type": "code",
   "execution_count": 21,
   "metadata": {},
   "outputs": [
    {
     "name": "stdout",
     "output_type": "stream",
     "text": [
      "\n",
      "    Biography:\n",
      "    My name is Jose and I am a python instructor doe coding.\n",
      "\n",
      "    Blog\n",
      "    Title: The Future of python and AI\n",
      "    tags: tech, python, coding, AI, nachine learning\n",
      "    Summary: I talk about what the future of AI could hold for Python\n",
      "    Full Text: \n"
     ]
    }
   ],
   "source": [
    "title = \"The Future of python and AI\"\n",
    "print(create_prompt(title))"
   ]
  },
  {
   "cell_type": "code",
   "execution_count": 22,
   "metadata": {},
   "outputs": [],
   "source": [
    "response = openai.chat.completions.create(model='gpt-3.5-turbo', \n",
    "                                          messages=[{\"role\": \"user\", \"content\": \"Compose a poem that explains the concept of recursion in programming.\"}],\n",
    "                                          max_tokens=1000,\n",
    "                                          temperature=0.7)\n"
   ]
  },
  {
   "cell_type": "code",
   "execution_count": 23,
   "metadata": {},
   "outputs": [],
   "source": [
    "blog_content = response.choices[0].message.content"
   ]
  },
  {
   "cell_type": "code",
   "execution_count": 24,
   "metadata": {},
   "outputs": [
    {
     "name": "stdout",
     "output_type": "stream",
     "text": [
      "In the world of coding, there lies a trick,\n",
      "A concept so powerful, it's sure to stick.\n",
      "It's called recursion, a loop within a loop,\n",
      "A function that calls itself, a coding coup.\n",
      "\n",
      "Imagine a function that calls itself again,\n",
      "Like a mirror reflecting, with no end.\n",
      "It repeats and repeats, like a never-ending story,\n",
      "A loop within a loop, recursive glory.\n",
      "\n",
      "With each iteration, the problem gets smaller,\n",
      "Solving complex tasks, with a coding chiller.\n",
      "It's like a Russian doll, nested inside each other,\n",
      "An elegant solution, like no other.\n",
      "\n",
      "But beware, for recursion can be a dangerous game,\n",
      "Infinite loops, with no one to blame.\n",
      "But when used wisely, it's a programmer's delight,\n",
      "Solving problems efficiently, with recursive might.\n",
      "\n",
      "So remember this concept, when coding away,\n",
      "Recursion in programming, a powerful display.\n",
      "A loop within a loop, solving problems with ease,\n",
      "In the world of coding, it's sure to please.\n"
     ]
    }
   ],
   "source": [
    "print(blog_content)"
   ]
  }
 ],
 "metadata": {
  "kernelspec": {
   "display_name": "Python 3",
   "language": "python",
   "name": "python3"
  },
  "language_info": {
   "codemirror_mode": {
    "name": "ipython",
    "version": 3
   },
   "file_extension": ".py",
   "mimetype": "text/x-python",
   "name": "python",
   "nbconvert_exporter": "python",
   "pygments_lexer": "ipython3",
   "version": "3.9.6"
  }
 },
 "nbformat": 4,
 "nbformat_minor": 2
}
